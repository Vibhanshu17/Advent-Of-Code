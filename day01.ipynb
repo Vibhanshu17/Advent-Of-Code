{
 "cells": [
  {
   "cell_type": "markdown",
   "id": "eb8be884",
   "metadata": {},
   "source": [
    "# Day 1 : Advent of Code 2023\n",
    "\n",
    "> CAVEAT : `oneight` is treated as 18\n",
    "\n",
    "### PART 1\n",
    "The newly-improved calibration document consists of lines of text; each line originally contained a specific calibration value that the Elves now need to recover. \\\n",
    "On each line, the calibration value can be found by combining the first digit and the last digit (in that order)\n",
    "to form a single two-digit number.\n",
    "\n",
    "For example:\n",
    "> ```\n",
    "1abc2                The calibration values of these four lines are 12, 38, 15, and 77.\n",
    "pqr3stu8vwx          Adding these together produces 142.\n",
    "a1b2c3d4e5f\n",
    "treb7uchet\n",
    "> ```\n",
    "\n",
    "\n",
    "### PART 2\n",
    "Your calculation isn't quite right. It looks like some of the digits are actually spelled out with letters: one, two, three, four, five, six, seven, eight, and nine also count as valid \"digits\".\n",
    "\n",
    "Equipped with this new information, you now need to find the real first and last digit on each line. For example:\n",
    "> ```\n",
    "two1nine\n",
    "eightwothree         The calibration values are 29, 83, 13, 24, 42, 14, and 76.\n",
    "abcone2threexyz      Adding these together produces 281.\n",
    "xtwone3four\n",
    "4nineeightseven2\n",
    "zoneight234\n",
    "7pqrstsixteen\n",
    "> ```\n",
    "\n",
    "\n",
    "### My Approach\n",
    "There isn't much to discuss here, just follow what the problem statement asks for."
   ]
  },
  {
   "cell_type": "code",
   "execution_count": 34,
   "id": "cacd24e1",
   "metadata": {},
   "outputs": [
    {
     "name": "stdout",
     "output_type": "stream",
     "text": [
      "res1=53651 res2=53894\n"
     ]
    }
   ],
   "source": [
    "num_in_words = {\"one\": \"1\", \"two\": \"2\", \"three\": \"3\", \"four\": \"4\", \n",
    "                \"five\": \"5\", \"six\": \"6\", \"seven\": \"7\", \"eight\": \"8\", \"nine\": \"9\"}\n",
    "\n",
    "def findFirstLastDigit_1(num: str):\n",
    "    ls = []\n",
    "    for n in num:\n",
    "        if n.isdigit():\n",
    "            ls.append(n)\n",
    "    return int(ls[0]+ls[-1])\n",
    "\n",
    "def findFirstLastDigit_2(num: str):\n",
    "    ls = []\n",
    "    for i, n in enumerate(num):\n",
    "        if n.isdigit():\n",
    "            ls.append(n)\n",
    "            continue\n",
    "        for word, digit in num_in_words.items():\n",
    "            if num[i:min(i+len(word), len(num))]==word:\n",
    "                ls.append(digit)\n",
    "                break\n",
    "    return int(ls[0]+ls[-1])\n",
    "\n",
    "if __name__ == '__main__':\n",
    "    # Q1. save inputfile as 'input01.txt'\n",
    "    num = open('input01.txt').read().splitlines()\n",
    "    res1 = sum([findFirstLastDigit(num) for num in numbers])\n",
    "    res2 = sum([findFirstLastDigit_2(num) for num in numbers])\n",
    "    print(f'{res1=} {res2=}')\n"
   ]
  }
 ],
 "metadata": {
  "kernelspec": {
   "display_name": "Python 3 (ipykernel)",
   "language": "python",
   "name": "python3"
  },
  "language_info": {
   "codemirror_mode": {
    "name": "ipython",
    "version": 3
   },
   "file_extension": ".py",
   "mimetype": "text/x-python",
   "name": "python",
   "nbconvert_exporter": "python",
   "pygments_lexer": "ipython3",
   "version": "3.9.12"
  }
 },
 "nbformat": 4,
 "nbformat_minor": 5
}
