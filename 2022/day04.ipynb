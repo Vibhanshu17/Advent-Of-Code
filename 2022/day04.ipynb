{
 "cells": [
  {
   "cell_type": "markdown",
   "metadata": {},
   "source": [
    "# Day 4 : Advent of Code 2022\n",
    "\n",
    "> CAVEAT : `oneight` is treated as 18\n",
    "\n",
    "### PART 1\n",
    "To try to quickly find overlaps and reduce duplicated effort, the Elves pair up and make a big list of the section assignments for each pair (your puzzle input).\n",
    "\n",
    "For example, consider the following list of section assignment pairs:\n",
    "> 2-4,6-8 \\\n",
    "2-3,4-5 \\\n",
    "5-7,7-9 \\\n",
    "2-8,3-7 \\\n",
    "6-6,4-6 \\\n",
    "2-6,4-8\n",
    "\n",
    "\n",
    "### PART 2\n",
    "Your calculation isn't quite right. It looks like some of the digits are actually spelled out with letters: one, two, three, four, five, six, seven, eight, and nine also count as valid \"digits\".\n",
    "\n",
    "Equipped with this new information, you now need to find the real first and last digit on each line. For example:\n",
    "> ```\n",
    "two1nine\n",
    "eightwothree         The calibration values are 29, 83, 13, 24, 42, 14, and 76.\n",
    "abcone2threexyz      Adding these together produces 281.\n",
    "xtwone3four\n",
    "4nineeightseven2\n",
    "zoneight234\n",
    "7pqrstsixteen\n",
    "> ```\n",
    "\n",
    "\n",
    "### My Approach\n",
    "For each pair of intervals $I1$ and $I2$, check if $I1 \\subseteq I2$ or $I2 \\subseteq I1$\n"
   ]
  },
  {
   "cell_type": "code",
   "execution_count": 40,
   "metadata": {},
   "outputs": [
    {
     "name": "stdout",
     "output_type": "stream",
     "text": [
      "nestedOverlapIntervals(intervals)=(571, 917)\n"
     ]
    }
   ],
   "source": [
    "def nestedOverlapIntervals(intervals):\n",
    "    nested, overlap = 0, 0\n",
    "    for s1, s2 in [interval.split(',') for interval in intervals]:\n",
    "        x1, y1 = map(int, s1.split('-'))\n",
    "        x2, y2 = map(int, s2.split('-'))\n",
    "        nested += int((x1<=x2 and y2<=y1) or (x2<=x1 and y1<=y2))\n",
    "        overlap += int((x1 <= y2 <= y1) or (x2 <= y1 <= y2))\n",
    "    return nested, overlap\n",
    "\n",
    "if __name__ == '__main__':\n",
    "    intervals = open('input04.txt').read().splitlines()\n",
    "    \n",
    "    print(f'{nestedOverlapIntervals(intervals)=}')"
   ]
  },
  {
   "cell_type": "code",
   "execution_count": 31,
   "metadata": {},
   "outputs": [
    {
     "ename": "NameError",
     "evalue": "name 'sign' is not defined",
     "output_type": "error",
     "traceback": [
      "\u001b[0;31m---------------------------------------------------------------------------\u001b[0m",
      "\u001b[0;31mNameError\u001b[0m                                 Traceback (most recent call last)",
      "\u001b[1;32m/workspaces/Advent-Of-Code-23/2022/day04.ipynb Cell 3\u001b[0m line \u001b[0;36m1\n\u001b[0;32m----> <a href='vscode-notebook-cell://codespaces%2Bsupreme-space-cod-7567pjr65g6f49p/workspaces/Advent-Of-Code-23/2022/day04.ipynb#W4sdnNjb2RlLXJlbW90ZQ%3D%3D?line=0'>1</a>\u001b[0m sign(\u001b[39m0\u001b[39m)\n",
      "\u001b[0;31mNameError\u001b[0m: name 'sign' is not defined"
     ]
    }
   ],
   "source": [
    "sign(0)"
   ]
  },
  {
   "cell_type": "code",
   "execution_count": null,
   "metadata": {},
   "outputs": [],
   "source": []
  }
 ],
 "metadata": {
  "kernelspec": {
   "display_name": "Python 3",
   "language": "python",
   "name": "python3"
  },
  "language_info": {
   "codemirror_mode": {
    "name": "ipython",
    "version": 3
   },
   "file_extension": ".py",
   "mimetype": "text/x-python",
   "name": "python",
   "nbconvert_exporter": "python",
   "pygments_lexer": "ipython3",
   "version": "3.10.13"
  }
 },
 "nbformat": 4,
 "nbformat_minor": 2
}
