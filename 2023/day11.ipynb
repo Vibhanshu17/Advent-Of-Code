{
 "cells": [
  {
   "cell_type": "markdown",
   "metadata": {},
   "source": [
    "# Day 1 : Advent of Code 2023\n",
    "\n",
    "### PART 1\n",
    "The researcher has collected a bunch of data and compiled the data into a single giant image (your puzzle input).\\\n",
    "The image includes empty space (.) and galaxies (#). For example:\n",
    "\n",
    "> . . . # . . . . . .\\\n",
    ". . . . . . . # . .\\\n",
    "\\# . . . . . . . . .\\\n",
    ". . . . . . . . . .\\\n",
    ". . . . . . # . . .\\\n",
    ". # . . . . . . . .\\\n",
    ". . . . . . . . .#\\\n",
    ". . . . . . . . . .\\\n",
    ". . . . . . . # . .\\\n",
    "\\# . . . # . .  . . .\n",
    "\n",
    "The researcher is trying to figure out the sum of the lengths of the shortest path between every pair of galaxies.\\\n",
    "The universe expanded in the time it took the light from those galaxies to reach the observatory.\n",
    "\n",
    "In this example, after expanding the universe, the sum of the shortest path between all `36 pairs` of galaxies is `374`.\n",
    "\n",
    "### PART 2\n",
    "Now, instead of the expansion you did before, make each empty row or column one million times larger.\\\n",
    "That is, each empty row should be replaced with `1000000` empty rows, and each empty column should be replaced with `1000000` empty columns.\n",
    "\n",
    "\n",
    "### My Approach\n",
    "Since the expansion scale could be very large (`1000000` in part 2), we can't add rows & cols to the galaxy.\\\n",
    "Rather calculate the distance without the expansion. Then add the effect due to expansion for each row & col that fall between any two galaxies.\n",
    "\n",
    "\n",
    "$\\textit{Time Complexity}: \\mathcal{O}(\\text{HEIGHT * WIDTH}) $"
   ]
  },
  {
   "cell_type": "code",
   "execution_count": 62,
   "metadata": {},
   "outputs": [],
   "source": [
    "def findDistance(galaxy, SCALE):\n",
    "    HEIGHT, WIDTH = len(galaxy), len(galaxy[0])\n",
    "    stars = [(x, y) for x in range(HEIGHT) for y in range(WIDTH) if galaxy[x][y]=='#']\n",
    "    n = len(stars)      # sum(x.count('#') for x in galaxy)\n",
    "\n",
    "    empty = '.'*WIDTH\n",
    "    rowExpand = [row for row in range(HEIGHT) if galaxy[row]==empty]\n",
    "    colExpand = [col for col in range(WIDTH) if ''.join([galaxy[row][col] for row in range(HEIGHT)])==empty]\n",
    "\n",
    "    dis = 0\n",
    "    SCALE -= 1\n",
    "    for i in range(n):\n",
    "        for j in range(i, n):\n",
    "            x, y = stars[i]\n",
    "            xx, yy = stars[j]\n",
    "            # dis += abs(stars[i][0]-stars[j][0]) + abs(stars[i][1]-stars[j][1])\n",
    "            dis += abs(x-xx) + abs(y-yy)\n",
    "            # dis += sum(1 for row in rowExpand if min(stars[i][0], starsrow)\n",
    "            dis += SCALE*sum(1 for row in rowExpand if min(x, xx)<row<max(x, xx))\n",
    "            dis += SCALE*sum(1 for col in colExpand if min(y, yy)<col<max(y, yy))\n",
    "        \n",
    "    print(dis)"
   ]
  },
  {
   "cell_type": "code",
   "execution_count": 64,
   "metadata": {},
   "outputs": [
    {
     "name": "stdout",
     "output_type": "stream",
     "text": [
      "8715262\n",
      "597714117556\n"
     ]
    }
   ],
   "source": [
    "if __name__ == '__main__':\n",
    "    galaxy = open('input11.txt').read().splitlines()\n",
    "    res1, res2 = findDistance(galaxy, 1), findDistance(galaxy, 1000000)"
   ]
  },
  {
   "cell_type": "code",
   "execution_count": null,
   "metadata": {},
   "outputs": [],
   "source": []
  }
 ],
 "metadata": {
  "kernelspec": {
   "display_name": "Python 3",
   "language": "python",
   "name": "python3"
  },
  "language_info": {
   "codemirror_mode": {
    "name": "ipython",
    "version": 3
   },
   "file_extension": ".py",
   "mimetype": "text/x-python",
   "name": "python",
   "nbconvert_exporter": "python",
   "pygments_lexer": "ipython3",
   "version": "3.10.13"
  }
 },
 "nbformat": 4,
 "nbformat_minor": 2
}
