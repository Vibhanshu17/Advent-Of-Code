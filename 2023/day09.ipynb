{
 "cells": [
  {
   "cell_type": "markdown",
   "metadata": {},
   "source": [
    "# Day 1 : Advent of Code 2023\n",
    "\n",
    "\n",
    "### PART 1\n",
    "The OASIS produces a report of many values and how they are changing over time (your puzzle input).\n",
    "Each line in the report contains the history of a single value.\n",
    "\n",
    "For example:\n",
    "> $\\text{0 \\quad 3 \\quad 6  \\ \\ 9 \\quad 12 \\quad 15}$\\\n",
    "$ \\text{1 \\quad 3 \\quad 6 \\ \\ 10 \\ \\ 15 \\ \\ \\ 21}$\\\n",
    "$ \\text{10 \\ \\ 13 \\ 16 \\ 21 \\ \\ 30 \\ \\ \\ 45}$\n",
    "\n",
    "> $ 0 \\quad 3  \\quad 6 \\quad  9 \\quad 12 \\quad 15 \\quad \\bf\\textit{18}$\\\n",
    "> $ \\quad 3 \\quad  3 \\quad  3 \\quad  3 \\quad \\  3 \\quad \\ \\  \\bf\\textit 3$\\\n",
    "> $ \\quad \\quad 0 \\quad  0 \\quad  0 \\quad  0 \\quad \\ \\bf\\textit{0} $\n",
    "\n",
    "If you find the next value for each history in this example (`18`, `28` and `68`) and add them together, you get `114`.\n",
    "\n",
    "### PART 2\n",
    "Of course, it would be nice to have even more history included in your report. Surely it's safe to just extrapolate backwards as well, right?\n",
    "\n",
    "> $ \\textbf{\\textit{5}} \\quad 10  \\quad 13 \\quad 16 \\quad 21 \\quad 30 \\quad 45$\\\n",
    "> $ \\quad \\textbf{\\textit{5}} \\quad \\ 3 \\quad \\ \\ 3 \\quad \\ \\ 5 \\quad \\ \\ 9 \\quad \\ \\  15$\\\n",
    "> $ \\quad \\ \\ \\textbf{\\textit{-2}} \\quad 0 \\quad \\ \\ 2 \\quad \\ \\ 4 \\quad \\ 15 $\\\n",
    "> $\\quad \\quad \\quad \\textbf{\\textit{2}} \\quad \\ \\ 2 \\quad \\ 2 \\quad \\ \\ 2$\\\n",
    "> $\\quad \\quad \\quad \\quad \\textbf{\\textit{0}} \\quad \\ 0 \\quad \\ 0$\n",
    "\n",
    "Extrapolating the previous values gives `-3`, `0` and `5`. Adding all three new values together produces `2`.\n",
    "\n",
    "\n",
    "### My Approach\n",
    "Generate the array of differences till all the elements in the array equal 0.\\\n",
    "For part 1: To get the extrapolation of the next value, add the last element of each array.\\\n",
    "For part 2: To get the extrapolation of the previous value, alternatively add and subtract the first element of each array."
   ]
  },
  {
   "cell_type": "code",
   "execution_count": 73,
   "metadata": {},
   "outputs": [],
   "source": [
    "def predictNext(seq):\n",
    "    diffs = [seq]\n",
    "    flag = True\n",
    "    while flag:\n",
    "        diff = []\n",
    "        flag = False\n",
    "        for i in range(1, len(diffs[-1])):\n",
    "            diff.append(diffs[-1][i]-diffs[-1][i-1])\n",
    "            flag |= diff[-1]!=0\n",
    "        diffs.append(diff)\n",
    "    return sum([diff[-1] for diff in diffs])\n",
    "\n",
    "def predictPrev(seq):\n",
    "    diffs = [seq]\n",
    "    flag = True\n",
    "    while flag:\n",
    "        diff = []\n",
    "        flag = False\n",
    "        for i in range(1, len(diffs[-1])):\n",
    "            diff.append(diffs[-1][i]-diffs[-1][i-1])\n",
    "            flag |= diff[-1]!=0\n",
    "        diffs.append(diff)\n",
    "    # [print(diff) for diff in diffs]\n",
    "    res = 0\n",
    "    for i in range(0, len(diffs), 2):\n",
    "        res += diffs[i][0]\n",
    "    for i in range(1, len(diffs), 2):\n",
    "        res -= diffs[i][0]\n",
    "\n",
    "    return res\n"
   ]
  },
  {
   "cell_type": "code",
   "execution_count": 74,
   "metadata": {},
   "outputs": [
    {
     "name": "stdout",
     "output_type": "stream",
     "text": [
      "res1=1861775706 res2=1082\n"
     ]
    }
   ],
   "source": [
    "if __name__ == '__main__':\n",
    "    seqs = open('input09.txt').read().splitlines()\n",
    "    seqs = [list(map(int, seq.split(' '))) for seq in seqs]\n",
    "\n",
    "    res1 = sum([predictNext(seq) for seq in seqs])\n",
    "    res2 = sum([predictPrev(seq) for seq in seqs])\n",
    "    print(f'{res1=} {res2=}')"
   ]
  },
  {
   "cell_type": "code",
   "execution_count": null,
   "metadata": {},
   "outputs": [],
   "source": []
  }
 ],
 "metadata": {
  "kernelspec": {
   "display_name": "Python 3",
   "language": "python",
   "name": "python3"
  },
  "language_info": {
   "codemirror_mode": {
    "name": "ipython",
    "version": 3
   },
   "file_extension": ".py",
   "mimetype": "text/x-python",
   "name": "python",
   "nbconvert_exporter": "python",
   "pygments_lexer": "ipython3",
   "version": "3.10.13"
  }
 },
 "nbformat": 4,
 "nbformat_minor": 2
}
