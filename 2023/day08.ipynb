{
 "cells": [
  {
   "cell_type": "markdown",
   "metadata": {},
   "source": [
    "# Day 1 : Advent of Code 2023\n",
    "\n",
    "> CAVEAT : In part2, the data is such that steps from xxA to xxZ is the same as the steps in cycle of xxZ and no other yyZ is present in the cycle. \\\n",
    "This is just emperical obersvation & greatly reduces the runtime.\n",
    "\n",
    "### PART 1\n",
    "You feel like AAA is where you are now, and you have to follow the left/right instructions until you reach ZZZ. One of the documents contains a list of left/right instructions, and the rest of the documents seem to describe some kind of network of labeled nodes.\n",
    "\n",
    "It seems like you're meant to use the left/right instructions to navigate the network.\n",
    "\n",
    "For example:\n",
    "> RL\n",
    "\n",
    "> AAA = (BBB, CCC)\\\n",
    "BBB = (DDD, EEE)\\\n",
    "CCC = (ZZZ, GGG)\\\n",
    "DDD = (DDD, DDD)\\\n",
    "EEE = (EEE, EEE)\\\n",
    "GGG = (GGG, GGG)\\\n",
    "ZZZ = (ZZZ, ZZZ)\n",
    "\n",
    "`Keep cycling over the directions if ZZZ isn't reached`\\\n",
    "Path taken will be `AAA` $\\rightarrow$ `CCC` $\\rightarrow$ `ZZZ` and hence it'll take 2 steps.\n",
    "\n",
    "\n",
    "### PART 2\n",
    "The number of nodes with names ending in A is equal to the number ending in Z! If you were a ghost, you'd probably just start at every node that ends with A and follow all of the paths at the same time until they all simultaneously end up at nodes that end with Z.\n",
    "> LR\n",
    "\n",
    "> 11A = (11B, XXX)\\\n",
    "11B = (XXX, 11Z)\\\n",
    "11Z = (11B, XXX)\\\n",
    "22A = (22B, XXX)\\\n",
    "22B = (22C, 22C)\\\n",
    "22C = (22Z, 22Z)\\\n",
    "22Z = (22B, 22B)\\\n",
    "XXX = (XXX, XXX)\n",
    "\n",
    "`start nodes:` `11A`, `22A` and `end nodes:` `11Z`, `22Z`\n",
    " Paths taken will be `11A` $\\rightarrow$ `11B` $\\rightarrow$ `11Z` and `22A` $\\rightarrow$ `22B` $\\rightarrow$ `22C` $\\rightarrow$ `22Z`\n",
    "\n",
    "This is continued until all the current nodes end up at `xxZ`simultaneously.\n",
    "\n",
    "### My Approach\n",
    "In part 1, There isn't much to discuss here, just follow what the problem statement asks for.\n",
    "In part 2, the observation is that the data is such that steps from xxA to xxZ is the same as the steps in cycle of xxZ and no other yyZ is present in the cycle. \\\n",
    "This greatly reduces the number of times we have to simulate the steps (and the runtime).\n",
    "\n",
    "\n",
    "If the number of steps taken are `n1, n2, ...` then they will all be at xxZ after `lcm(n1, n2, ...)` steps."
   ]
  },
  {
   "cell_type": "code",
   "execution_count": 34,
   "metadata": {},
   "outputs": [
    {
     "name": "stdout",
     "output_type": "stream",
     "text": [
      "part1 res 16043\n",
      "part2 res 15726453850399\n"
     ]
    }
   ],
   "source": [
    "import math\n",
    "\n",
    "def stepsToZ(cur, moves, turn):\n",
    "    steps = 0\n",
    "    while not cur.endswith('Z'):\n",
    "        cur = turn[(cur, moves[0])]\n",
    "        steps += 1\n",
    "        moves = moves[1:] + moves[0]\n",
    "    return steps\n",
    "\n",
    "\n",
    "if __name__ == '__main__':\n",
    "    moves, _, *dir = open('input08.txt').read().splitlines()\n",
    "    for i,d in enumerate(dir):\n",
    "        x, y = d.split(' = ')\n",
    "        dir[i]=[x, y[1:4], y[6:9]]\n",
    "\n",
    "    turn = {}   # graph of left & right turns\n",
    "    for pos, left, right in dir:\n",
    "        turn[(pos, 'L')]=left\n",
    "        turn[(pos, 'R')]=right\n",
    "    print('part1 res', stepsToZ('AAA', moves, turn))\n",
    "\n",
    "    start_pos = [x[0] for x in dir if x[0][2]=='A']\n",
    "    end_pos = [x[0] for x in dir if x[0][2]=='Z']\n",
    "    \n",
    "    # doesn't find cycles, instead counts steps to 1st Z\n",
    "    stepsToZ = [stepsToZ(start, moves, turn) for start in start_pos]\n",
    "    print('part2 res', math.lcm(*stepsToZ))\n",
    "    "
   ]
  }
 ],
 "metadata": {
  "kernelspec": {
   "display_name": "Python 3",
   "language": "python",
   "name": "python3"
  },
  "language_info": {
   "codemirror_mode": {
    "name": "ipython",
    "version": 3
   },
   "file_extension": ".py",
   "mimetype": "text/x-python",
   "name": "python",
   "nbconvert_exporter": "python",
   "pygments_lexer": "ipython3",
   "version": "3.10.13"
  }
 },
 "nbformat": 4,
 "nbformat_minor": 2
}
