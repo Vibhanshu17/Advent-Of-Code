{
 "cells": [
  {
   "cell_type": "code",
   "execution_count": 73,
   "metadata": {},
   "outputs": [
    {
     "data": {
      "text/plain": [
       "([52, 94, 75, 94], [426, 1374, 1279, 1216])"
      ]
     },
     "execution_count": 73,
     "metadata": {},
     "output_type": "execute_result"
    }
   ],
   "source": [
    "time, dis = open('input06.txt').read().splitlines()\n",
    "time = [int(x) for x in time.split(':')[1].split(' ') if x.strip()]\n",
    "dis = [int(x) for x in dis.split(':')[1].split(' ') if x.strip()]\n",
    "\n",
    "time, dis"
   ]
  },
  {
   "cell_type": "code",
   "execution_count": 74,
   "metadata": {},
   "outputs": [
    {
     "data": {
      "image/png": "[encoded data removed]",
      "text/plain": [
       "<Figure size 432x288 with 1 Axes>"
      ]
     },
     "metadata": {
      "needs_background": "light"
     },
     "output_type": "display_data"
    }
   ],
   "source": [
    "import math\n",
    "import numpy as np\n",
    "import matplotlib.pyplot as plt\n",
    "\n",
    "# x2 - t*x + d >= 0\n",
    "# t +- sqrt(t2 - 4d)/ 2\n",
    "for t, d in zip(time, dis):\n",
    "    x = np.linspace(0, t, 100)\n",
    "    plt.plot(x, [y*(t-y) for y in x])\n",
    "    plt.plot(x, [d]*len(x))\n",
    "    break\n",
    "    x1, x2 = int(t + math.sqrt(t**2 - 4*d)/2), int(t - math.sqrt(t**2 - 4*d)/2)\n",
    "    print(f'{x1=} {x2=} {x1-x2+1} {max(x2, t-x2) - min(x2, t-x2) +1}')\n",
    "    \n",
    "    "
   ]
  },
  {
   "cell_type": "code",
   "execution_count": 86,
   "metadata": {},
   "outputs": [
    {
     "name": "stdout",
     "output_type": "stream",
     "text": [
      "33149631\n"
     ]
    }
   ],
   "source": [
    "res = 1\n",
    "for t, d in zip([time], [dis]):\n",
    "    ans = 0\n",
    "    tmp = ''\n",
    "    for tt in range(1, t):\n",
    "        if tt*(t-tt) > d:\n",
    "            ans += 1\n",
    "#             tmp += ' ' + str(tt)\n",
    "#     print(tmp, 'ans: ', ans)\n",
    "    res *= ans\n",
    "print(res)"
   ]
  },
  {
   "cell_type": "markdown",
   "metadata": {},
   "source": [
    "### Part 2\n"
   ]
  },
  {
   "cell_type": "code",
   "execution_count": 82,
   "metadata": {},
   "outputs": [],
   "source": [
    "time, dis = open('input06.txt').read().splitlines()\n",
    "time = [x for x in time.split(':')[1].split(' ') if x.strip()]\n",
    "dis = [x for x in dis.split(':')[1].split(' ') if x.strip()]\n",
    "time = int(''.join(time))\n",
    "dis = int(''.join(dis))"
   ]
  },
  {
   "cell_type": "code",
   "execution_count": 83,
   "metadata": {},
   "outputs": [
    {
     "data": {
      "text/plain": [
       "(52947594, 426137412791216)"
      ]
     },
     "execution_count": 83,
     "metadata": {},
     "output_type": "execute_result"
    }
   ],
   "source": [
    "time, dis"
   ]
  },
  {
   "cell_type": "code",
   "execution_count": null,
   "metadata": {},
   "outputs": [],
   "source": []
  }
 ],
 "metadata": {
  "kernelspec": {
   "display_name": "Python 3",
   "language": "python",
   "name": "python3"
  },
  "language_info": {
   "codemirror_mode": {
    "name": "ipython",
    "version": 3
   },
   "file_extension": ".py",
   "mimetype": "text/x-python",
   "name": "python",
   "nbconvert_exporter": "python",
   "pygments_lexer": "ipython3",
   "version": "3.8.3"
  }
 },
 "nbformat": 4,
 "nbformat_minor": 4
}
