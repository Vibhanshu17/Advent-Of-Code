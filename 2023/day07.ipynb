{
 "cells": [
  {
   "cell_type": "markdown",
   "metadata": {},
   "source": [
    "# Day 7 : Advent of Code 2023\n",
    "\n",
    "\n",
    "### PART 1\n",
    "In Camel Cards, you get a list of hands, and your goal is to order them based on the strength of each hand. A hand consists of five cards labeled one of A, K, Q, J, T, 9, 8, 7, 6, 5, 4, 3, or 2. The relative strength of each card follows this order, where A is the highest and 2 is the lowest.\n",
    "Every hand is exactly one type. From strongest to weakest, they are:\n",
    "- Five of a kind `AAAAA`\n",
    "- Four of a kind `AA8AA`\n",
    "- Full house `23332`\n",
    "- Three of a kind `TTT98`\n",
    "- Two pair `23432`\n",
    "- One pair `A23A4`\n",
    "- High card `23456`\n",
    "\n",
    "For example:\n",
    "> 32T3K 765\\\n",
    "T55J5 684\\\n",
    "KK677 28\\\n",
    "KTJJT 220\\\n",
    "QQQJA 483\n",
    "\n",
    "Now the ordering will be `32T3K, KTJJT, KK677, T55J5, QQQJA` - weakest to strongest. \\\n",
    "And total winning = `765 * 1 + 220 * 2 + 28 * 3 + 684 * 4 + 483 * 5` = `6440`\n",
    "\n",
    "### PART 2\n",
    "J cards are now the weakest individual cards, weaker even than 2. The other cards stay in the same order:\\\n",
    "`A, K, Q, T, 9, 8, 7, 6, 5, 4, 3, 2, J`\n",
    "\n",
    "J cards can pretend to be whatever card is best for the purpose of determining hand type.But for the purpose of breaking ties between two hands of the same type, J is always treated as J, not the card it's pretending to be.\\\n",
    "Where the ordering will be `32T3K, KK677, T55J5, QQQJA, KTJJT` - weakest to strongest. \\\n",
    "And total winning = `765 * 1 + 28 * 2 + 684 * 3 + 483 * 4 + 220 * 5` = `5905`\n",
    "\n",
    "\n",
    "### My Approach\n",
    "In this task, count frequency of each card in hand and index each card to their priority for comparison.\n",
    "Now order hands in ascending order of their freqs of their cards. Break ties using the indexing. \\\n",
    "In part 2, just add the frequency of 'J' card to the frequency of the card with max. frequency (other than 'J'). Ties are broken the same way as in the previous part, just with different indexing."
   ]
  },
  {
   "cell_type": "code",
   "execution_count": 32,
   "id": "fcf0894b",
   "metadata": {},
   "outputs": [],
   "source": [
    "index1 = {'2': 0, '3': 1, '4': 2, '5': 3, '6': 4, '7': 5, '8': 6, '9': 7, 'T': 8, 'J': 9, 'Q': 10, 'K': 11, 'A': 12}\n",
    "index2 = dict(zip(['J', '2', '3', '4', '5', '6', '7', '8', '9', 'T', 'Q', 'K', 'A'], range(0,13)))\n",
    "\n",
    "def idx(hand, flag=False):\n",
    "    # index cards to their priority\n",
    "    if flag: return [index2[card] for card in hand]\n",
    "    return [index1[card] for card in hand]\n",
    "\n",
    "\n",
    "def cnt(hand, flag=False):\n",
    "    # count freq of each card\n",
    "    ret = {}\n",
    "    for card in hand:\n",
    "        ret[card] = ret[card]+1 if card in ret.keys() else 1\n",
    "\n",
    "    # if flag=True, treat 'J' as wildcard\n",
    "    freqJ = ret.get('J', 0)\n",
    "    ret['J'] = 0\n",
    "\n",
    "    ls = sorted(list(ret.values()), reverse=True)\n",
    "    if flag: ls[0] += freqJ         # count J as card with max freq\n",
    "    return ls\n",
    "\n",
    "def order(hands, flag=False):\n",
    "    # order the cards in hand\n",
    "    hands = sorted(hands, key=lambda cards: (cards[0], idx(cards[1], flag)))\n",
    "    return hands\n"
   ]
  },
  {
   "cell_type": "code",
   "execution_count": 33,
   "metadata": {},
   "outputs": [
    {
     "name": "stdout",
     "output_type": "stream",
     "text": [
      "res1=252153073 res2=253362743\n"
     ]
    }
   ],
   "source": [
    "\n",
    "if __name__ == '__main__':\n",
    "    hands = [input.split(' ') for input in open('input07.txt').read().splitlines()]\n",
    "    task1Hands = list(map(lambda hand: [cnt(hand[0]), hand[0], int(hand[1])], hands))\n",
    "    task2Hands = list(map(lambda hand: [cnt(hand[0], True), hand[0], int(hand[1])], hands))\n",
    "    \n",
    "    task1Hands = order(task1Hands)\n",
    "    task2Hands = order(task2Hands, True)\n",
    "\n",
    "    res1 = sum([cards[2]*(i+1) for i, cards in enumerate(task1Hands)])\n",
    "    res2 = sum([cards[2]*(i+1) for i, cards in enumerate(task2Hands)])\n",
    "\n",
    "    print(f'{res1=} {res2=}')"
   ]
  }
 ],
 "metadata": {
  "kernelspec": {
   "display_name": "Python 3 (ipykernel)",
   "language": "python",
   "name": "python3"
  },
  "language_info": {
   "codemirror_mode": {
    "name": "ipython",
    "version": 3
   },
   "file_extension": ".py",
   "mimetype": "text/x-python",
   "name": "python",
   "nbconvert_exporter": "python",
   "pygments_lexer": "ipython3",
   "version": "3.10.13"
  }
 },
 "nbformat": 4,
 "nbformat_minor": 5
}
