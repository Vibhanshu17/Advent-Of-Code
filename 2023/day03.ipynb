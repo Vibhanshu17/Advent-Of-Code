{
 "cells": [
  {
   "cell_type": "markdown",
   "metadata": {},
   "source": [
    "# Day 1 : Advent of Code 2023\n",
    "\n",
    "\n",
    "### PART 1\n",
    "The engine schematic (your puzzle input) consists of a visual representation of the engine. Apparently any number adjacent to a symbol, even diagonally, is a \"part number\" and should be included in your sum. (Periods (.) do not count as a symbol.)\n",
    "\n",
    "Here is an example engine schematic:\n",
    "\n",
    "For example:\n",
    ">467 .. 114. .\\\n",
    ". . . * . . . . . .\\\n",
    ". . 35. . 633.\\\n",
    ". . . . . . # . . .\\\n",
    "617* . . . . . .\\\n",
    ". . . . . + . 58.\\\n",
    ". . 592. . . . .\\\n",
    ". . . . . . 755.\\\n",
    ". . . $ . * . . . .\\\n",
    ". 664. 598. .\n",
    "\n",
    "\n",
    "### PART 2\n",
    "A gear is any * symbol that is adjacent to exactly two part numbers. Its gear ratio is the result of multiplying those two numbers together.\n",
    "\n",
    "This time, you need to find the gear ratio of every gear and add them all up so that the engineer can figure out which gear needs to be replaced.\n",
    "\n",
    "Consider the same engine schematic again:\n",
    ">467 .. 114. .\\\n",
    ". . . * . . . . . .\\\n",
    ". . 35. . 633.\\\n",
    ". . . . . . # . . .\\\n",
    "617* . . . . . .\\\n",
    ". . . . . + . 58.\\\n",
    ". . 592. . . . .\\\n",
    ". . . . . . 755.\\\n",
    ". . . $ . * . . . .\\\n",
    ". 664. 598. .\n",
    "\n",
    "\n",
    "### My Approach\n",
    "In part 1, find all start/end indices of all numbers, then see if they have any symbols adjacent to them. \\\n",
    "In part 2, modify code in part 1 to store numbers adjacent to every '*'. If there are only two such numbers, multiply them and add to the result."
   ]
  },
  {
   "cell_type": "code",
   "execution_count": 17,
   "metadata": {},
   "outputs": [],
   "source": [
    "\n",
    "symbols = ['#', '$', '%', '&', '*', '+', '-', '/', '=', '@']\n",
    "gear = '*'\n",
    "index = []  # store start & end index of each number\n",
    "map = {}    # store numbers adjacent to '*'\n",
    "\n",
    "def sum_and_gear_ratio(v):\n",
    "    n, m = len(v), len(v[0])\n",
    "    for row in range(n):\n",
    "        start, end = -1, -1\n",
    "        flag = False   # if True, we found a number\n",
    "        for i, digit in enumerate(v[row]):\n",
    "            if digit.isdigit():\n",
    "                if flag: end = i\n",
    "                else : flag, start, end = True, i, i\n",
    "            elif flag: \n",
    "                index.append([row, start, end])\n",
    "                flag = False\n",
    "        if flag: index.append([row, start, end])\n",
    "\n",
    "    sum, gearRatio = 0, 0\n",
    "    for [row, start, end] in index:\n",
    "        for symb in symbols:\n",
    "            if symb in v[max(0, row-1)][max(0, start-1):min(end+2, m)]:\n",
    "                sum += int(v[row][start:end+1])\n",
    "                break\n",
    "            if symb in v[min(n-1, row+1)][max(0, start-1):min(end+2, m)]:\n",
    "                sum += int(v[row][start:end+1])\n",
    "                break\n",
    "            if symb in [v[row][max(0, start-1)], v[row][min(m-1, end+1)]]:\n",
    "                sum += int(v[row][start:end+1])\n",
    "                break\n",
    "        for col in range(max(0, start-1), min(end+2, m)):\n",
    "            if v[max(0, row-1)][col] == '*':\n",
    "                if (row-1, col) not in map.keys(): map[(row-1, col)] = []\n",
    "                map[(row-1, col)].append(int(v[row][start:end+1]))\n",
    "        for col in range(max(0, start-1), min(end+2, m)):\n",
    "            if v[min(n-1, row+1)][col] == '*':\n",
    "                if (min(n-1, row+1), col) not in map.keys(): map[(min(n-1, row+1), col)] = []\n",
    "                map[(min(n-1, row+1), col)].append(int(v[row][start:end+1]))\n",
    "        if v[row][max(0, start-1)] == '*':\n",
    "            if (row, max(0, start-1)) not in map.keys(): map[(row, max(0, start-1))] = []\n",
    "            map[(row, max(0, start-1))].append(int(v[row][start:end+1]))\n",
    "        if v[row][min(m-1, end+1)] == '*':\n",
    "            if (row, min(m-1, end+1)) not in map.keys(): map[(row, min(m-1, end+1))] = []\n",
    "            map[(row, min(m-1, end+1))].append(int(v[row][start:end+1]))\n",
    "\n",
    "    for key, val in map.items():\n",
    "        if len(val) == 2:\n",
    "            gearRatio += val[0] * val[1]\n",
    "        \n",
    "    return sum, gearRatio\n",
    "                \n"
   ]
  },
  {
   "cell_type": "code",
   "execution_count": 18,
   "metadata": {},
   "outputs": [
    {
     "name": "stdout",
     "output_type": "stream",
     "text": [
      "res=556367 gearRatio=89471771\n"
     ]
    }
   ],
   "source": [
    "if __name__ == '__main__':\n",
    "    v = open('input03.txt').read().splitlines()\n",
    "    res, gearRatio = sum_and_gear_ratio(v)\n",
    "    print(f'{res=} {gearRatio=}')"
   ]
  },
  {
   "cell_type": "code",
   "execution_count": null,
   "metadata": {},
   "outputs": [],
   "source": []
  }
 ],
 "metadata": {
  "kernelspec": {
   "display_name": "Python 3",
   "language": "python",
   "name": "python3"
  },
  "language_info": {
   "codemirror_mode": {
    "name": "ipython",
    "version": 3
   },
   "file_extension": ".py",
   "mimetype": "text/x-python",
   "name": "python",
   "nbconvert_exporter": "python",
   "pygments_lexer": "ipython3",
   "version": "3.10.13"
  }
 },
 "nbformat": 4,
 "nbformat_minor": 2
}
