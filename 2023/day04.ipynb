{
 "cells": [
  {
   "cell_type": "markdown",
   "metadata": {},
   "source": [
    "# Day 1 : Advent of Code 2023\n",
    "\n",
    "> CAVEAT : `oneight` is treated as 18\n",
    "\n",
    "### PART 1\n",
    "As far as the Elf has been able to figure out, you have to figure out which of the numbers you have appear in the list of winning numbers. The first match makes the card worth one point and each match after the first doubles the point value of that card.\n",
    "\n",
    "For example:\n",
    ">\n",
    "Card 1: 41 48 83 86 17 | 83 86  6 31 17  9 48 53\\\n",
    "Card 2: 13 32 20 16 61 | 61 30 68 82 17 32 24 19\\\n",
    "Card 3:  1 21 53 59 44 | 69 82 63 72 16 21 14  1\\\n",
    "Card 4: 41 92 73 84 69 | 59 84 76 51 58  5 54 83\\\n",
    "Card 5: 87 83 26 28 32 | 88 30 70 12 93 22 82 36\\\n",
    "Card 6: 31 18 13 56 72 | 74 77 10 23 35 67 36 11\n",
    "\n",
    "You get [1, 2, 4, 8, 14, 1] copies of cards 1 to 6. In total, this example pile of scratchcards causes you to ultimately have 30 scratchcards!\n",
    "\n",
    "\n",
    "### PART 2\n",
    "There's no such thing as \"points\". Instead, scratchcards only cause you to win more scratchcards equal to the number of winning numbers you have.\n",
    "\n",
    "Specifically, you win copies of the scratchcards below the winning card equal to the number of matches. So, if card 10 were to have 5 matching numbers, you would win one copy each of cards 11, 12, 13, 14, and 15.\n",
    "> Card 1: 41 48 83 86 17 | 83 86  6 31 17  9 48 53\\\n",
    "Card 2: 13 32 20 16 61 | 61 30 68 82 17 32 24 19\\\n",
    "Card 3:  1 21 53 59 44 | 69 82 63 72 16 21 14  1\\\n",
    "Card 4: 41 92 73 84 69 | 59 84 76 51 58  5 54 83\\\n",
    "Card 5: 87 83 26 28 32 | 88 30 70 12 93 22 82 36\\\n",
    "Card 6: 31 18 13 56 72 | 74 77 10 23 35 67 36 11\n",
    "\n",
    "\n",
    "\n",
    "### My Approach\n",
    "In part 1, for each of your card check if it is in winning card as well. Find total of such cards, say n, then points for this card will be $2^{n-1}$ \\\n",
    "In part 2, you get one more copy of cards i to i + point[i] for each match. So if there are cnts[i] cards of type i, you'll get cnts[i] copies of cards i to i + point[i]."
   ]
  },
  {
   "cell_type": "code",
   "execution_count": 5,
   "metadata": {},
   "outputs": [
    {
     "name": "stdout",
     "output_type": "stream",
     "text": [
      "res=19499881\n"
     ]
    }
   ],
   "source": [
    "def points(nums):\n",
    "    point = []\n",
    "    for num in nums:\n",
    "        winning, your = num\n",
    "        winning = [x for x in winning.split(' ') if x.strip()]\n",
    "        your = [x for x in your.split(' ') if x.strip()]\n",
    "        point.append(sum([1 if x in winning else 0 for x in your]))\n",
    "        \n",
    "    cnts = [1] * (len(nums)+1)\n",
    "    for i,p in enumerate(point):\n",
    "        for j in range(i+1, min(i+p+1, len(nums)+1)):\n",
    "            cnts[j] += cnts[i]\n",
    "    return sum(cnts[:-1])\n",
    "\n",
    "if __name__ == '__main__':\n",
    "    cards = open('input04.txt').read().splitlines()\n",
    "    nums = [card.split(': ')[1].split(' | ') for card in cards]   # [winning nums, your nums]\n",
    "\n",
    "    res = points(nums)\n",
    "    print(f'{res=}')\n",
    "\n"
   ]
  }
 ],
 "metadata": {
  "kernelspec": {
   "display_name": "Python 3",
   "language": "python",
   "name": "python3"
  },
  "language_info": {
   "codemirror_mode": {
    "name": "ipython",
    "version": 3
   },
   "file_extension": ".py",
   "mimetype": "text/x-python",
   "name": "python",
   "nbconvert_exporter": "python",
   "pygments_lexer": "ipython3",
   "version": "3.10.13"
  }
 },
 "nbformat": 4,
 "nbformat_minor": 2
}
