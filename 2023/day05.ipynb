{
 "cells": [
  {
   "cell_type": "markdown",
   "metadata": {},
   "source": [
    "# Day 5 : Advent of Code 2023\n",
    "\n",
    "\n",
    "### PART 1\n",
    "The newly-improved calibration document consists of lines of text; each line originally contained a specific calibration value that the Elves now need to recover. \\\n",
    "On each line, the calibration value can be found by combining the first digit and the last digit (in that order)\n",
    "to form a single two-digit number.\n",
    "\n",
    "For example:\n",
    ">seeds: 79 14 55 13\n",
    ">\n",
    "> seed-to-soil map:\\\n",
    "> 50 98 2\\\n",
    "> 52 50 48\n",
    "> \n",
    "> soil-to-fertilizer map:\\\n",
    "> 0 15 37\\\n",
    "> 37 52 2\\\n",
    "> 39 0 15\n",
    "> \n",
    "> fertilizer-to-water map:\\\n",
    "> 49 53 8\\\n",
    "> 0 11 42\\\n",
    "> 42 0 7\\\n",
    "> 57 7 4\n",
    "> \n",
    "> water-to-light map:\\\n",
    "> 88 18 7\\\n",
    "> 18 25 70\n",
    "> \n",
    "> light-to-temperature map:\\\n",
    "> 45 77 23\\\n",
    "> 81 45 19\\\n",
    "> 68 64 13\n",
    "> \n",
    "> temperature-to-humidity map:\\\n",
    "> 0 69 1\\\n",
    "> 1 0 69\n",
    "\n",
    "humidity-to-location map:\n",
    "60 56 37\n",
    "56 93 4\n",
    "The gardener and his team want to get started as soon as possible, so they'd like to know the closest location that needs a seed. Using these maps, find the lowest location number that corresponds to any of the initial seeds. To do this, you'll need to convert each seed number through other categories until you can find its corresponding location number.\n",
    "So, the lowest location number in this example is 35.\n",
    "\n",
    "\n",
    "\n",
    "### PART 2\n",
    "Your calculation isn't quite right. It looks like some of the digits are actually spelled out with letters: one, two, three, four, five, six, seven, eight, and nine also count as valid \"digits\".\n",
    "\n",
    "Equipped with this new information, you now need to find the real first and last digit on each line. For example:\n",
    "> ```\n",
    "two1nine\n",
    "eightwothree         The calibration values are 29, 83, 13, 24, 42, 14, and 76.\n",
    "abcone2threexyz      Adding these together produces 281.\n",
    "xtwone3four\n",
    "4nineeightseven2\n",
    "zoneight234\n",
    "7pqrstsixteen\n",
    "> ```\n",
    "\n",
    "\n",
    "### My Approach\n",
    "There isn't much to discuss here, just follow what the problem statement asks for."
   ]
  },
  {
   "cell_type": "code",
   "execution_count": 15,
   "metadata": {},
   "outputs": [
    {
     "name": "stdout",
     "output_type": "stream",
     "text": [
      "input:\n",
      "['seeds: 79 14 55 13']\n",
      "['seed-to-soil map:', '50 98 2', '52 50 48']\n",
      "['soil-to-fertilizer map:', '0 15 37', '37 52 2', '39 0 15']\n",
      "['fertilizer-to-water map:', '49 53 8', '0 11 42', '42 0 7', '57 7 4']\n",
      "['water-to-light map:', '88 18 7', '18 25 70']\n",
      "['light-to-temperature map:', '45 77 23', '81 45 19', '68 64 13']\n",
      "['temperature-to-humidity map:', '0 69 1', '1 0 69']\n",
      "['humidity-to-location map:', '60 56 37', '56 93 4']\n",
      "\n",
      "\n",
      "\n",
      "seeds & mappings:\n"
     ]
    },
    {
     "data": {
      "text/plain": [
       "([[79, 14, 55, 13]],\n",
       " [[50, 98, 2], [52, 50, 48]],\n",
       " [[0, 15, 37], [37, 52, 2], [39, 0, 15]],\n",
       " [[49, 53, 8], [0, 11, 42], [42, 0, 7], [57, 7, 4]],\n",
       " [[88, 18, 7], [18, 25, 70]],\n",
       " [[45, 77, 23], [81, 45, 19], [68, 64, 13]],\n",
       " [[0, 69, 1], [1, 0, 69]],\n",
       " [[60, 56, 37], [56, 93, 4]])"
      ]
     },
     "execution_count": 15,
     "metadata": {},
     "output_type": "execute_result"
    }
   ],
   "source": [
    "from itertools import groupby\n",
    "\n",
    "\n",
    "def makelist(ls):\n",
    "    # ls: list of string\n",
    "    ret = []\n",
    "    for s in ls:\n",
    "        ret.append([int(x) for x in s.split(' ') if x.strip()])\n",
    "    return ret\n",
    "\n",
    "\n",
    "if __name__ == '__main__':\n",
    "    input = open('input.txt').read().splitlines()\n",
    "    input = [list(val) for key, val in groupby(input, lambda x: x != '') if key]\n",
    "    print('input:')\n",
    "    [print(inp) for inp in input]\n",
    "    \n",
    "    # seeds\n",
    "    seeds = makelist([input[0][0].split(':')[1]])\n",
    "    # mapping\n",
    "    seedToSoil, soilToFertilizer, fertilizerToWater, waterToLigth, lightToTemp, tempToHumidity, humidityToLocation = [makelist(x[1:]) for x in input[1:]]\n",
    "\n",
    "\n",
    "print('\\n\\n\\nseeds & mappings:')\n",
    "seeds, seedToSoil, soilToFertilizer, fertilizerToWater, waterToLigth, lightToTemp, tempToHumidity, humidityToLocation "
   ]
  },
  {
   "cell_type": "code",
   "execution_count": 10,
   "metadata": {},
   "outputs": [
    {
     "data": {
      "text/plain": [
       "' 79 14 55 13'"
      ]
     },
     "execution_count": 10,
     "metadata": {},
     "output_type": "execute_result"
    }
   ],
   "source": []
  },
  {
   "cell_type": "code",
   "execution_count": null,
   "metadata": {},
   "outputs": [],
   "source": []
  }
 ],
 "metadata": {
  "kernelspec": {
   "display_name": "Python 3",
   "language": "python",
   "name": "python3"
  },
  "language_info": {
   "codemirror_mode": {
    "name": "ipython",
    "version": 3
   },
   "file_extension": ".py",
   "mimetype": "text/x-python",
   "name": "python",
   "nbconvert_exporter": "python",
   "pygments_lexer": "ipython3",
   "version": "3.10.13"
  }
 },
 "nbformat": 4,
 "nbformat_minor": 2
}
