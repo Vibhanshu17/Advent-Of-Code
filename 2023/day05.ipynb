{
 "cells": [
  {
   "cell_type": "markdown",
   "metadata": {},
   "source": [
    "# Day 5 : Advent of Code 2023\n",
    "\n",
    "\n",
    "### PART 1\n",
    "The newly-improved calibration document consists of lines of text; each line originally contained a specific calibration value that the Elves now need to recover. \\\n",
    "On each line, the calibration value can be found by combining the first digit and the last digit (in that order)\n",
    "to form a single two-digit number.\n",
    "\n",
    "For example:\n",
    "> ```\n",
    "1abc2                The calibration values of these four lines are 12, 38, 15, and 77.\n",
    "pqr3stu8vwx          Adding these together produces 142.\n",
    "a1b2c3d4e5f\n",
    "treb7uchet\n",
    "> ```\n",
    "\n",
    "\n",
    "### PART 2\n",
    "Your calculation isn't quite right. It looks like some of the digits are actually spelled out with letters: one, two, three, four, five, six, seven, eight, and nine also count as valid \"digits\".\n",
    "\n",
    "Equipped with this new information, you now need to find the real first and last digit on each line. For example:\n",
    "> ```\n",
    "two1nine\n",
    "eightwothree         The calibration values are 29, 83, 13, 24, 42, 14, and 76.\n",
    "abcone2threexyz      Adding these together produces 281.\n",
    "xtwone3four\n",
    "4nineeightseven2\n",
    "zoneight234\n",
    "7pqrstsixteen\n",
    "> ```\n",
    "\n",
    "\n",
    "### My Approach\n",
    "There isn't much to discuss here, just follow what the problem statement asks for."
   ]
  },
  {
   "cell_type": "code",
   "execution_count": 5,
   "metadata": {},
   "outputs": [
    {
     "data": {
      "text/plain": [
       "['seeds: 79 14 55 13',\n",
       " '',\n",
       " 'seed-to-soil map:',\n",
       " '50 98 2',\n",
       " '52 50 48',\n",
       " '',\n",
       " 'soil-to-fertilizer map:',\n",
       " '0 15 37',\n",
       " '37 52 2',\n",
       " '39 0 15',\n",
       " '',\n",
       " 'fertilizer-to-water map:',\n",
       " '49 53 8',\n",
       " '0 11 42',\n",
       " '42 0 7',\n",
       " '57 7 4',\n",
       " '',\n",
       " 'water-to-light map:',\n",
       " '88 18 7',\n",
       " '18 25 70',\n",
       " '',\n",
       " 'light-to-temperature map:',\n",
       " '45 77 23',\n",
       " '81 45 19',\n",
       " '68 64 13',\n",
       " '',\n",
       " 'temperature-to-humidity map:',\n",
       " '0 69 1',\n",
       " '1 0 69',\n",
       " '',\n",
       " 'humidity-to-location map:',\n",
       " '60 56 37',\n",
       " '56 93 4']"
      ]
     },
     "execution_count": 5,
     "metadata": {},
     "output_type": "execute_result"
    }
   ],
   "source": [
    "input = open('input.txt').read().splitlines()\n",
    "input"
   ]
  },
  {
   "cell_type": "markdown",
   "metadata": {},
   "source": []
  }
 ],
 "metadata": {
  "kernelspec": {
   "display_name": "Python 3",
   "language": "python",
   "name": "python3"
  },
  "language_info": {
   "codemirror_mode": {
    "name": "ipython",
    "version": 3
   },
   "file_extension": ".py",
   "mimetype": "text/x-python",
   "name": "python",
   "nbconvert_exporter": "python",
   "pygments_lexer": "ipython3",
   "version": "3.10.13"
  }
 },
 "nbformat": 4,
 "nbformat_minor": 2
}
