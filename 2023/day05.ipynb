{
 "cells": [
  {
   "cell_type": "markdown",
   "metadata": {},
   "source": [
    "# Day 5 : Advent of Code 2023\n",
    "\n",
    "\n",
    "### PART 1\n",
    "The newly-improved calibration document consists of lines of text; each line originally contained a specific calibration value that the Elves now need to recover. \\\n",
    "On each line, the calibration value can be found by combining the first digit and the last digit (in that order)\n",
    "to form a single two-digit number.\n",
    "\n",
    "For example:\n",
    ">seeds: 79 14 55 13\n",
    ">\n",
    "> seed-to-soil map:\\\n",
    "> 50 98 2\\\n",
    "> 52 50 48\n",
    "> \n",
    "> soil-to-fertilizer map:\\\n",
    "> 0 15 37\\\n",
    "> 37 52 2\\\n",
    "> 39 0 15\n",
    "> \n",
    "> fertilizer-to-water map:\\\n",
    "> 49 53 8\\\n",
    "> 0 11 42\\\n",
    "> 42 0 7\\\n",
    "> 57 7 4\n",
    "> \n",
    "> water-to-light map:\\\n",
    "> 88 18 7\\\n",
    "> 18 25 70\n",
    "> \n",
    "> light-to-temperature map:\\\n",
    "> 45 77 23\\\n",
    "> 81 45 19\\\n",
    "> 68 64 13\n",
    "> \n",
    "> temperature-to-humidity map:\\\n",
    "> 0 69 1\\\n",
    "> 1 0 69\n",
    ">\n",
    "> humidity-to-location map:\\\n",
    "> 60 56 37\\\n",
    "> 56 93 4\n",
    "\n",
    "The gardener and his team want to get started as soon as possible, so they'd like to know the closest location that needs a seed. Using these maps, find the lowest location number that corresponds to any of the initial seeds. To do this, you'll need to convert each seed number through other categories until you can find its corresponding location number.\n",
    "So, the lowest location number in this example is 35.\n",
    "\n",
    "\n",
    "\n",
    "### PART 2\n",
    "Your calculation isn't quite right. It looks like some of the digits are actually spelled out with letters: one, two, three, four, five, six, seven, eight, and nine also count as valid \"digits\".\n",
    "\n",
    "Equipped with this new information, you now need to find the real first and last digit on each line. For example:\n",
    "> ```\n",
    "two1nine\n",
    "eightwothree         The calibration values are 29, 83, 13, 24, 42, 14, and 76.\n",
    "abcone2threexyz      Adding these together produces 281.\n",
    "xtwone3four\n",
    "4nineeightseven2\n",
    "zoneight234\n",
    "7pqrstsixteen\n",
    "> ```\n",
    "\n",
    "\n",
    "### My Approach\n",
    "There isn't much to discuss here, just follow what the problem statement asks for."
   ]
  },
  {
   "cell_type": "code",
   "execution_count": null,
   "metadata": {},
   "outputs": [
    {
     "ename": "",
     "evalue": "",
     "output_type": "error",
     "traceback": [
      "\u001b[1;31mThe Kernel crashed while executing code in the the current cell or a previous cell. Please review the code in the cell(s) to identify a possible cause of the failure. Click <a href='https://aka.ms/vscodeJupyterKernelCrash'>here</a> for more info. View Jupyter <a href='command:jupyter.viewOutput'>log</a> for further details."
     ]
    }
   ],
   "source": [
    "from itertools import groupby\n",
    "\n",
    "\n",
    "def makelist(ls):\n",
    "    # ls: list of string\n",
    "    ret = []\n",
    "    for s in ls:\n",
    "        ret.append([int(x) for x in s.split(' ') if x.strip()])\n",
    "    return ret\n",
    "\n",
    "def map_dest_src(map, keys):\n",
    "    \n",
    "    for key in keys:\n",
    "        dest, src, inc = key\n",
    "        for i in range(inc):\n",
    "            map[src+i] = dest+i\n",
    "\n",
    "    return None\n",
    "\n",
    "if __name__ == '__main__':\n",
    "    input = open('input.txt').read().splitlines()\n",
    "    input = [list(val) for key, val in groupby(input, lambda x: x != '') if key]\n",
    "    # print('input:')\n",
    "    # [print(inp) for inp in input]\n",
    "    \n",
    "    # seeds\n",
    "    seeds = makelist([input[0][0].split(':')[1]])\n",
    "    # mapping\n",
    "    seedToSoil, soilToFertilizer, fertilizerToWater, waterToLight, lightToTemp, tempToHumidity, humidityToLocation = [makelist(x[1:]) for x in input[1:]]\n",
    "    \n",
    "    # map according to instructions: map{X}To{Y} means map[y] = x\n",
    "    mapSeedToSoil = {}\n",
    "    mapSoilToFertilizer = {}\n",
    "    mapFertilizerToWater = {}\n",
    "    mapWaterToLight = {}\n",
    "    mapLightToTemp = {}\n",
    "    mapTempToHumidity= {} \n",
    "    mapHumidityToLocation = {}\n",
    "\n",
    "    map_dest_src(mapSeedToSoil, seedToSoil)\n",
    "    map_dest_src(mapSoilToFertilizer, soilToFertilizer)\n",
    "    map_dest_src(mapFertilizerToWater, fertilizerToWater)\n",
    "    map_dest_src(mapWaterToLight, waterToLight)\n",
    "    map_dest_src(mapLightToTemp, lightToTemp)\n",
    "    map_dest_src(mapTempToHumidity, tempToHumidity)\n",
    "    map_dest_src(mapHumidityToLocation, humidityToLocation)\n",
    "\n",
    "    # find nearest location\n",
    "    _, seeds = _, *seeds\n",
    "    soils = [mapSeedToSoil[seed] if seed in mapSeedToSoil.keys() else seed for seed in seeds]\n",
    "    print(f'{soils=}')\n",
    "    ferts = [mapSoilToFertilizer[soil] if soil in mapSoilToFertilizer.keys() else soil for soil in soils]\n",
    "    print(f'{ferts=}')\n",
    "    wats = [mapFertilizerToWater[fert] if fert in mapFertilizerToWater.keys() else fert for fert in ferts]\n",
    "    print(f'{wats=}')\n",
    "    ligs = [mapWaterToLight[wat] if wat in mapWaterToLight.keys() else wat for wat in wats]\n",
    "    print(f'{ligs=}')\n",
    "    temps = [mapLightToTemp[lig] if lig in mapLightToTemp.keys() else lig for lig in ligs]\n",
    "    print(f'{temps=}')\n",
    "    hums = [mapTempToHumidity[temp] if temp in mapTempToHumidity.keys() else temp for temp in temps]\n",
    "    print(f'{hums=}')\n",
    "    locs = [mapHumidityToLocation[hum] if hum in mapHumidityToLocation.keys() else hum for hum in hums] \n",
    "    print(f'{locs=}')\n",
    "    print('nearest location:', min(locs))\n",
    "\n",
    "\n",
    "\n",
    "print('\\n\\n\\nseeds & mappings:')\n",
    "seeds, seedToSoil, soilToFertilizer, fertilizerToWater, waterToLight, lightToTemp, tempToHumidity, humidityToLocation "
   ]
  },
  {
   "cell_type": "code",
   "execution_count": 1,
   "metadata": {},
   "outputs": [
    {
     "ename": "NameError",
     "evalue": "name 'seeds' is not defined",
     "output_type": "error",
     "traceback": [
      "\u001b[0;31m---------------------------------------------------------------------------\u001b[0m",
      "\u001b[0;31mNameError\u001b[0m                                 Traceback (most recent call last)",
      "\u001b[1;32m/workspaces/Advent-Of-Code/2023/day05.ipynb Cell 3\u001b[0m line \u001b[0;36m1\n\u001b[0;32m----> <a href='vscode-notebook-cell://codespaces%2Bjubilant-space-halibut-4v5qwpg56jwhxq5/workspaces/Advent-Of-Code/2023/day05.ipynb#W3sdnNjb2RlLXJlbW90ZQ%3D%3D?line=0'>1</a>\u001b[0m [mapSeedToSoil[seed] \u001b[39mfor\u001b[39;00m seed \u001b[39min\u001b[39;00m seeds]\n",
      "\u001b[0;31mNameError\u001b[0m: name 'seeds' is not defined"
     ]
    }
   ],
   "source": [
    "[mapSeedToSoil[seed] for seed in seeds]"
   ]
  },
  {
   "cell_type": "code",
   "execution_count": 1,
   "metadata": {},
   "outputs": [],
   "source": [
    "x, y = [{}]*2"
   ]
  },
  {
   "cell_type": "code",
   "execution_count": 97,
   "metadata": {},
   "outputs": [
    {
     "data": {
      "text/plain": [
       "({}, {})"
      ]
     },
     "execution_count": 97,
     "metadata": {},
     "output_type": "execute_result"
    }
   ],
   "source": [
    "x, y"
   ]
  },
  {
   "cell_type": "code",
   "execution_count": 98,
   "metadata": {},
   "outputs": [
    {
     "data": {
      "text/plain": [
       "({1: 2}, {1: 2})"
      ]
     },
     "execution_count": 98,
     "metadata": {},
     "output_type": "execute_result"
    }
   ],
   "source": [
    "x[1] = 2\n",
    "x, y"
   ]
  },
  {
   "cell_type": "code",
   "execution_count": null,
   "metadata": {},
   "outputs": [],
   "source": []
  },
  {
   "cell_type": "code",
   "execution_count": 41,
   "metadata": {},
   "outputs": [
    {
     "data": {
      "text/plain": [
       "([[79, 14, 55, 13]], [79, 14, 55, 13])"
      ]
     },
     "execution_count": 41,
     "metadata": {},
     "output_type": "execute_result"
    }
   ],
   "source": [
    "x, y = _, *seeds\n",
    "x, y"
   ]
  },
  {
   "cell_type": "code",
   "execution_count": 50,
   "metadata": {},
   "outputs": [],
   "source": [
    "_, x = _, *seeds"
   ]
  },
  {
   "cell_type": "code",
   "execution_count": 51,
   "metadata": {},
   "outputs": [
    {
     "data": {
      "text/plain": [
       "[79, 14, 55, 13]"
      ]
     },
     "execution_count": 51,
     "metadata": {},
     "output_type": "execute_result"
    }
   ],
   "source": [
    "x"
   ]
  },
  {
   "cell_type": "code",
   "execution_count": null,
   "metadata": {},
   "outputs": [],
   "source": []
  }
 ],
 "metadata": {
  "kernelspec": {
   "display_name": "Python 3 (ipykernel)",
   "language": "python",
   "name": "python3"
  },
  "language_info": {
   "codemirror_mode": {
    "name": "ipython",
    "version": 3
   },
   "file_extension": ".py",
   "mimetype": "text/x-python",
   "name": "python",
   "nbconvert_exporter": "python",
   "pygments_lexer": "ipython3",
   "version": "3.10.13"
  }
 },
 "nbformat": 4,
 "nbformat_minor": 2
}
