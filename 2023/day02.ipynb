{
  "nbformat": 4,
  "nbformat_minor": 0,
  "metadata": {
    "colab": {
      "provenance": [],
      "authorship_tag": "ABX9TyMAWulaIuGHNy7gcfaA8ZKS"
    },
    "kernelspec": {
      "name": "python3",
      "display_name": "Python 3"
    },
    "language_info": {
      "name": "python"
    }
  },
  "cells": [
    {
      "cell_type": "markdown",
      "source": [
        "# Day 2 : Advent of Code 2023\n",
        "`The Elf would first like to know which games would have been possible if the bag contained only 12 red cubes, 13 green cubes, and 14 blue cubes?`\n",
        "\n",
        "### PART 1\n",
        "You play several games and record the information from each game (your puzzle input). Each game is listed with its ID number (like the 11 in Game 11: ...) followed by a semicolon-separated list of subsets of cubes that were revealed from the bag (like 3 red, 5 green, 4 blue).\n",
        "For example:\n",
        "> ```\n",
        "Game 1: 3 blue, 4 red; 1 red, 2 green, 6 blue; 2 green\n",
        "Game 2: 1 blue, 2 green; 3 green, 4 blue, 1 red; 1 green, 1 blue\n",
        "Game 3: 8 green, 6 blue, 20 red; 5 blue, 4 red, 13 green; 5 green, 1 red\n",
        "Game 4: 1 green, 3 red, 6 blue; 3 green, 6 red; 3 green, 15 blue, 14 red\n",
        "Game 5: 6 red, 1 blue, 3 green; 2 blue, 1 red, 2 green\n",
        "> ```\n",
        "In the example above, games 1, 2, and 5 would have been possible. If you add up the IDs of the games that would have been possible, you get 8.\n",
        "\n",
        "### PART 2\n",
        "the Elf poses a second question: in each game you played, what is the fewest number of cubes of each color that could have been in the bag to make the game possible? For example:\n",
        "> ```\n",
        "Game 1: 3 blue, 4 red; 1 red, 2 green, 6 blue; 2 green\n",
        "Game 2: 1 blue, 2 green; 3 green, 4 blue, 1 red; 1 green, 1 blue\n",
        "Game 3: 8 green, 6 blue, 20 red; 5 blue, 4 red, 13 green; 5 green, 1 red\n",
        "Game 4: 1 green, 3 red, 6 blue; 3 green, 6 red; 3 green, 15 blue, 14 red\n",
        "Game 5: 6 red, 1 blue, 3 green; 2 blue, 1 red, 2 green\n",
        "> ```\n",
        "The power of a set of cubes is equal to the numbers of red, green, and blue cubes multiplied together. The power of the minimum set of cubes in game 1 is 48. In games 2-5 it was 12, 1560, 630, and 36, respectively. Adding up these five powers produces the sum 2286.\n",
        "\n",
        "\n",
        "### My Approach\n",
        "The data needs to be split into a nice form to work with.\n",
        "In python, `split(⋅)` is well suited for such a task.\n",
        "Compare with [12, 13, 14] rgb values in the 1st task to check if it is valid and calculate the maximum rgb values in the 2nd task to get the power value."
      ],
      "metadata": {
        "id": "1j0DTcBOzQaZ"
      }
    },
    {
      "cell_type": "code",
      "source": [
        "actual_cnts = {'red': 12, 'green': 13, 'blue': 14}  # r, g, b cnts\n",
        "def isValidAndPower(cnts):\n",
        "  valid = True\n",
        "  minCnt = {'red': 0, 'green': 0, 'blue': 0}\n",
        "  for cnt in cnts:\n",
        "    for cube in cnt:\n",
        "      num, color = cube.split(' ')\n",
        "      minCnt[color] = max(int(num), minCnt[color])\n",
        "      if actual_cnts[color] < int(num):\n",
        "        valid = False\n",
        "\n",
        "  return valid, minCnt['red'] * minCnt['green'] * minCnt['blue']\n",
        "\n",
        "if __name__=='__main__':\n",
        "  cubes = open('input02.txt').read().splitlines()\n",
        "\n",
        "  sumOfIndex, totalPower = 0, 0\n",
        "  for cube in cubes:\n",
        "    game, counts = cube.split(': ')\n",
        "    gameIndex = int(game.split(' ')[1])\n",
        "    cnts = [x.split(', ') for x in counts.split('; ')]\n",
        "\n",
        "    valid, power = isValidAndPower(cnts)\n",
        "    sumOfIndex += gameIndex if valid else 0\n",
        "    totalPower += power\n",
        "\n",
        "  print(f'{sumOfIndex=}')\n",
        "  print(f'{totalPower=}')\n"
      ],
      "metadata": {
        "colab": {
          "base_uri": "https://localhost:8080/"
        },
        "id": "ifE4Y1JGdFiT",
        "outputId": "737171fc-0bc7-47e0-995d-7bafcc5ce87b"
      },
      "execution_count": 51,
      "outputs": [
        {
          "output_type": "stream",
          "name": "stdout",
          "text": [
            "sumOfIndex=2006\n",
            "totalPower=84911\n"
          ]
        }
      ]
    },
    {
      "cell_type": "code",
      "source": [],
      "metadata": {
        "id": "USV8UeGJh_Uz"
      },
      "execution_count": null,
      "outputs": []
    }
  ]
}