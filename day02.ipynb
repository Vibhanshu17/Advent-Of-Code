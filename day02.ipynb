{
  "nbformat": 4,
  "nbformat_minor": 0,
  "metadata": {
    "colab": {
      "provenance": [],
      "authorship_tag": "ABX9TyPNG++WAhpQ9vjXwv9kOa6D"
    },
    "kernelspec": {
      "name": "python3",
      "display_name": "Python 3"
    },
    "language_info": {
      "name": "python"
    }
  },
  "cells": [
    {
      "cell_type": "markdown",
      "source": [
        "# Day 2 : Advent of Code 2023\n",
        "\n",
        "### PART 1\n",
        "The newly-improved calibration document consists of lines of text; each line originally contained a specific calibration value that the Elves now need to recover. \\\n",
        "On each line, the calibration value can be found by combining the first digit and the last digit (in that order)\n",
        "to form a single two-digit number.\n",
        "\n",
        "For example:\n",
        "> ```\n",
        "1abc2                The calibration values of these four lines are 12, 38, 15, and 77.\n",
        "pqr3stu8vwx          Adding these together produces 142.\n",
        "a1b2c3d4e5f\n",
        "treb7uchet\n",
        "> ```\n",
        "\n",
        "\n",
        "### PART 2\n",
        "Your calculation isn't quite right. It looks like some of the digits are actually spelled out with letters: one, two, three, four, five, six, seven, eight, and nine also count as valid \"digits\".\n",
        "\n",
        "Equipped with this new information, you now need to find the real first and last digit on each line. For example:\n",
        "> ```\n",
        "two1nine\n",
        "eightwothree         The calibration values are 29, 83, 13, 24, 42, 14, and 76.\n",
        "abcone2threexyz      Adding these together produces 281.\n",
        "xtwone3four\n",
        "4nineeightseven2\n",
        "zoneight234\n",
        "7pqrstsixteen\n",
        "> ```\n",
        "\n",
        "\n",
        "### My Approach\n",
        "There isn't much to discuss here, just follow what the problem statement asks for."
      ],
      "metadata": {
        "id": "1j0DTcBOzQaZ"
      }
    },
    {
      "cell_type": "code",
      "source": [
        "actual_cnts = {'red': 12, 'green': 13, 'blue': 14}  # r, g, b cnts\n",
        "def isValidAndPower(cnts):\n",
        "  valid = True\n",
        "  minCnt = {'red': 0, 'green': 0, 'blue': 0}\n",
        "  for cnt in cnts:\n",
        "    for cube in cnt:\n",
        "      num, color = cube.split(' ')\n",
        "      minCnt[color] = max(int(num), minCnt[color])\n",
        "      if actual_cnts[color] < int(num):\n",
        "        valid = False\n",
        "\n",
        "  return valid, minCnt['red'] * minCnt['green'] * minCnt['blue']\n",
        "\n",
        "if __name__=='__main__':\n",
        "  cubes = open('input02.txt').read().splitlines()\n",
        "\n",
        "  sumOfIndex, totalPower = 0, 0\n",
        "  for cube in cubes:\n",
        "    game, counts = cube.split(': ')\n",
        "    gameIndex = int(game.split(' ')[1])\n",
        "    cnts = [x.split(', ') for x in counts.split('; ')]\n",
        "\n",
        "    valid, power = isValidAndPower(cnts)\n",
        "    sumOfIndex += gameIndex if valid else 0\n",
        "    totalPower += power\n",
        "\n",
        "  print(f'{sumOfIndex=}')\n",
        "  print(f'{totalPower=}')\n"
      ],
      "metadata": {
        "colab": {
          "base_uri": "https://localhost:8080/"
        },
        "id": "ifE4Y1JGdFiT",
        "outputId": "737171fc-0bc7-47e0-995d-7bafcc5ce87b"
      },
      "execution_count": 51,
      "outputs": [
        {
          "output_type": "stream",
          "name": "stdout",
          "text": [
            "sumOfIndex=2006\n",
            "totalPower=84911\n"
          ]
        }
      ]
    },
    {
      "cell_type": "code",
      "source": [],
      "metadata": {
        "id": "USV8UeGJh_Uz"
      },
      "execution_count": null,
      "outputs": []
    }
  ]
}